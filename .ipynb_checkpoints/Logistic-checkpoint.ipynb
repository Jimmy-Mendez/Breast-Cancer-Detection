{
 "cells": [
  {
   "cell_type": "markdown",
   "id": "99006af0-7eab-4021-a785-b358a35cf8f5",
   "metadata": {},
   "source": [
    "# Breast Cancer Detection\n",
    "\n",
    "In this notebook, I explore logistic regression using a breast cancer diagnosis data set downloaded from Kaggle.\n",
    "\n",
    "Link to data:\n",
    "\n",
    "This project will look at how linear regression and logistic regression differ, and how logistic regression can be a powerful tool for classification."
   ]
  },
  {
   "cell_type": "markdown",
   "id": "4b2c9fd6-9a6f-4b07-af2a-8710983e4b35",
   "metadata": {},
   "source": [
    "Since the diagnosis has two possible outputs (benign or malignant), I will be exploring binary logistic regression. "
   ]
  },
  {
   "cell_type": "markdown",
   "id": "29748937-f620-47f6-9938-551affa6e79c",
   "metadata": {},
   "source": [
    "## Linear Regression"
   ]
  },
  {
   "cell_type": "markdown",
   "id": "a0670e67-0422-4d8f-bfc9-31339005eedc",
   "metadata": {},
   "source": [
    "The basic model of a multivariate linear regression is:\n",
    "\n",
    "$\\hat{y_{i}} = \\alpha + \\beta_{1}x_{i,1} + \\beta_{2}x_{i,2} + \\beta_{3}x_{i,3} + ... + \\beta_{k}x_{i,k} + \\mu_{i}$\n",
    "\n",
    "Where the inputs for a single observation, $i$, are $x_{i,1}, x_{i,2}, x_{i,3}, ..., x_{i,k}$ , and are weighted by the coeffiecients $\\beta_{1}, \\beta_{2}, \\beta_{3}, ..., \\beta_{k}$, and $\\mu_{i}$ is the error term to give output $y_{i}$. \n",
    "\n",
    "TO DO: write in matrix notation\n",
    "\n",
    "We can calculate $\\textbf{b}$ by solving the minimization function, where we try to minimize the sum of squared residuals: $min(\\sum(y_{i}-\\hat{y_{i}}))$ where\n",
    "\n",
    "$\\textbf{b} = \\begin{bmatrix} \\beta_{1} \\\\ \\beta_{2} \\\\ \\beta_{3} \\\\ : \\\\ \\beta{k} \\end{bmatrix}$\n",
    "\n",
    "$\\textbf{X} = \\begin{bmatrix} x_{1, 1} && x_{1,2} && x_{1,3} && ... && x_{1,k} \\\\ x_{2,1} && x_{2,2} && x_{2,3} && ... && x_{2,k}\\\\ x_{2,1} && x_{2,2} && x_{3,3} && ... && x_{3,k} \\\\ : \\\\ x_{i,1} && x_{i,2} && x_{i,3} && ... && x_{i,k}\n",
    "\\end{bmatrix}$\n",
    "\n",
    "$\\textbf{y} = \\begin{bmatrix} y_{1} \\\\ y_{2} \\\\ y_{3} \\\\ : \\\\ y_{k} \\end{bmatrix}$\n",
    "\n",
    "\n",
    "$\\textbf{e} = \\begin{bmatrix} \\mu_{1} \\\\ \\mu_{2} \\\\ \\mu_{3} \\\\ : \\\\ \\mu_{k} \\end{bmatrix}$\n",
    "\n",
    "Using the matrix notation we can rewrite the regression equation as $$\\textbf{y} = \\textbf{Xb} + \\textbf{e}$$ Solving for $\\textbf{b}$ we get $$\\textbf{b} = (\\textbf{X}'\\textbf{X})\\textbf{X}'\\textbf{y}$$\n",
    "\n",
    "TODO: Provide a proof"
   ]
  },
  {
   "cell_type": "markdown",
   "id": "d12ec8bf-91e4-4981-8152-db010c9275e4",
   "metadata": {},
   "source": [
    "## In Practice"
   ]
  },
  {
   "cell_type": "code",
   "execution_count": 71,
   "id": "38fdb706-df8e-4e9e-bae8-dbfeacd5f24e",
   "metadata": {},
   "outputs": [],
   "source": [
    "import pandas as pd\n",
    "\n",
    "data = pd.read_csv(\"Data/data.csv\")"
   ]
  },
  {
   "cell_type": "markdown",
   "id": "dfe7dcb8-116f-4ae5-acc0-f61a8673f655",
   "metadata": {},
   "source": [
    "Before we solve for $\\textbf{b}$, lets store the $\\textbf{y}$ vector separately and split the data into training and testing datasets"
   ]
  },
  {
   "cell_type": "code",
   "execution_count": 103,
   "id": "1b66eb02-e883-4370-8041-74051d75ca7d",
   "metadata": {},
   "outputs": [
    {
     "name": "stdout",
     "output_type": "stream",
     "text": [
      "569\n",
      "31\n"
     ]
    }
   ],
   "source": [
    "# Creating y_train and y_test matrix\n",
    "\n",
    "y = data['diagnosis'].to_numpy()\n",
    "y = [1 if i == 'M' else 0 for i in y]\n",
    "\n",
    "y_train = y[0:500]\n",
    "y_test = y[500:568]\n",
    "\n",
    "# Creating X_train and X_test matrix\n",
    "\n",
    "X = data.loc[: , data.columns!='diagnosis']\n",
    "X = X.loc[: , X.columns!='Unnamed: 32']\n",
    "\n",
    "X_train = X[0:500]\n",
    "X_train = X_train.to_numpy()\n",
    "\n",
    "X_test = X[500:568]\n",
    "X_test = X_test.to_numpy()\n",
    "\n",
    "# Printing dimensions\n",
    "\n",
    "print(len(list(y)))\n",
    "print(len(X_train[0]))"
   ]
  },
  {
   "cell_type": "markdown",
   "id": "32917891-44c2-4c32-9be1-8aabcc95d769",
   "metadata": {},
   "source": [
    "Looking at the number of rows and columns, we can say $k$ = 31 and $i$ = 569. So our final $\\textbf{b}$ vector should be of length 31."
   ]
  },
  {
   "cell_type": "markdown",
   "id": "936728d8-e241-456a-8910-9822fccba05f",
   "metadata": {},
   "source": [
    "Let's solve for the $\\textbf{b}$ vector using the NumPy package"
   ]
  },
  {
   "cell_type": "code",
   "execution_count": 104,
   "id": "1bffeed0-34cf-4f96-ac43-a88d2134c15b",
   "metadata": {},
   "outputs": [],
   "source": [
    "import numpy as np\n",
    "\n",
    "X_prime = np.transpose(X_train)\n",
    "\n",
    "b = np.dot((np.dot(X_prime,X_train)),np.dot(X_prime,y_train))"
   ]
  },
  {
   "cell_type": "code",
   "execution_count": 110,
   "id": "49eb5257-b199-4bd4-9325-e0759d862993",
   "metadata": {},
   "outputs": [
    {
     "name": "stdout",
     "output_type": "stream",
     "text": [
      "[9.14862e+05 1.50400e+01 1.67400e+01 9.87300e+01 6.89400e+02 9.88300e-02\n",
      " 1.36400e-01 7.72100e-02 6.14200e-02 1.66800e-01 6.86900e-02 3.72000e-01\n",
      " 8.42300e-01 2.30400e+00 3.48400e+01 4.12300e-03 1.81900e-02 1.99600e-02\n",
      " 1.00400e-02 1.05500e-02 3.23700e-03 1.67600e+01 2.04300e+01 1.09700e+02\n",
      " 8.56900e+02 1.13500e-01 2.17600e-01 1.85600e-01 1.01800e-01 2.17700e-01\n",
      " 8.54900e-02]\n"
     ]
    }
   ],
   "source": [
    "print(X_test)"
   ]
  },
  {
   "cell_type": "code",
   "execution_count": null,
   "id": "ce2d5306-2bd0-44a1-b73c-5604a6aef6f2",
   "metadata": {},
   "outputs": [],
   "source": []
  }
 ],
 "metadata": {
  "kernelspec": {
   "display_name": "Python 3 (ipykernel)",
   "language": "python",
   "name": "python3"
  },
  "language_info": {
   "codemirror_mode": {
    "name": "ipython",
    "version": 3
   },
   "file_extension": ".py",
   "mimetype": "text/x-python",
   "name": "python",
   "nbconvert_exporter": "python",
   "pygments_lexer": "ipython3",
   "version": "3.9.7"
  }
 },
 "nbformat": 4,
 "nbformat_minor": 5
}
