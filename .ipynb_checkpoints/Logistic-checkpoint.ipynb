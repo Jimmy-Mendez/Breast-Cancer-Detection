{
 "cells": [
  {
   "cell_type": "markdown",
   "id": "99006af0-7eab-4021-a785-b358a35cf8f5",
   "metadata": {},
   "source": [
    "# Breast Cancer Detection\n",
    "\n",
    "In this notebook, I explore logistic regression using a breast cancer diagnosis data set downloaded from Kaggle.\n",
    "\n",
    "Link to data:\n",
    "\n",
    "This project will look at how linear regression and logistic regression differ, and how logistic regression can be a powerful tool for classification."
   ]
  },
  {
   "cell_type": "markdown",
   "id": "4b2c9fd6-9a6f-4b07-af2a-8710983e4b35",
   "metadata": {},
   "source": [
    "Since the diagnosis has two possible outputs (benign or malignant), I will be exploring binary logistic regression. "
   ]
  },
  {
   "cell_type": "markdown",
   "id": "29748937-f620-47f6-9938-551affa6e79c",
   "metadata": {},
   "source": [
    "## Linear Regression"
   ]
  },
  {
   "cell_type": "markdown",
   "id": "a0670e67-0422-4d8f-bfc9-31339005eedc",
   "metadata": {},
   "source": [
    "The basic model of a multivariate linear regression is:\n",
    "\n",
    "$\\hat{y_{i}} = \\alpha + \\beta_{1}x_{i,1} + \\beta_{2}x_{i,2} + \\beta_{3}x_{i,3} + ... + \\beta_{k}x_{i,k} + \\mu_{i}$\n",
    "\n",
    "Where the inputs for a single observation, $i$, are $x_{i,1}, x_{i,2}, x_{i,3}, ..., x_{i,k}$ , and are weighted by the coeffiecients $\\beta_{1}, \\beta_{2}, \\beta_{3}, ..., \\beta_{k}$, and $\\mu_{i}$ is the error term to give output $y_{i}$. \n",
    "\n",
    "TO DO: write in matrix notation\n",
    "\n",
    "We can calculate $\\textbf{b}$ by solving the minimization function, where we try to minimize the sum of squared residuals: $min(\\sum(y_{i}-\\hat{y_{i}}))$ where\n",
    "\n",
    "$\\textbf{b} = \\begin{bmatrix} \\beta_{1} \\\\ \\beta_{2} \\\\ \\beta_{3} \\\\ : \\\\ \\beta{k} \\end{bmatrix}$\n",
    "\n",
    "$\\textbf{X} = \\begin{bmatrix} x_{1, 1} && x_{1,2} && x_{1,3} && ... && x_{1,k} \\\\ x_{2,1} && x_{2,2} && x_{2,3} && ... && x_{2,k}\\\\ x_{2,1} && x_{2,2} && x_{3,3} && ... && x_{3,k} \\\\ : \\\\ x_{i,1} && x_{i,2} && x_{i,3} && ... && x_{i,k}\n",
    "\\end{bmatrix}$\n",
    "\n",
    "$\\textbf{y} = \\begin{bmatrix} y_{1} \\\\ y_{2} \\\\ y_{3} \\\\ : \\\\ y_{k} \\end{bmatrix}$\n",
    "\n",
    "\n",
    "$\\textbf{e} = \\begin{bmatrix} \\mu_{1} \\\\ \\mu_{2} \\\\ \\mu_{3} \\\\ : \\\\ \\mu_{k} \\end{bmatrix}$\n",
    "\n",
    "Using the matrix notation we can rewrite the regression equation as $$\\textbf{y} = \\textbf{Xb} + \\textbf{e}$$ Solving for $\\textbf{b}$ we get $$\\textbf{b} = (\\textbf{X}'\\textbf{X})^{-1}\\textbf{X}'\\textbf{y}$$\n",
    "\n",
    "TODO: Provide a proof"
   ]
  },
  {
   "cell_type": "markdown",
   "id": "d12ec8bf-91e4-4981-8152-db010c9275e4",
   "metadata": {},
   "source": [
    "### In Practice"
   ]
  },
  {
   "cell_type": "code",
   "execution_count": 170,
   "id": "38fdb706-df8e-4e9e-bae8-dbfeacd5f24e",
   "metadata": {},
   "outputs": [],
   "source": [
    "import pandas as pd\n",
    "\n",
    "data = pd.read_csv(\"Data/data.csv\")"
   ]
  },
  {
   "cell_type": "markdown",
   "id": "dfe7dcb8-116f-4ae5-acc0-f61a8673f655",
   "metadata": {},
   "source": [
    "Before we solve for $\\textbf{b}$, lets store the $\\textbf{y}$ vector separately and split the data into training and testing datasets"
   ]
  },
  {
   "cell_type": "code",
   "execution_count": 171,
   "id": "1b66eb02-e883-4370-8041-74051d75ca7d",
   "metadata": {},
   "outputs": [
    {
     "name": "stdout",
     "output_type": "stream",
     "text": [
      "569\n",
      "32\n"
     ]
    }
   ],
   "source": [
    "# Creating y_train and y_test matrix\n",
    "\n",
    "y = data['diagnosis'].to_numpy()\n",
    "y = [1 if i == 'M' else 0 for i in y]\n",
    "\n",
    "y_train = y[0:500]\n",
    "y_test = y[500:568]\n",
    "\n",
    "# Creating X_train and X_test matrix\n",
    "\n",
    "X = data.loc[: , data.columns!='diagnosis']\n",
    "X = X.loc[: , X.columns!='Unnamed: 32']\n",
    "X['intercept'] = 1\n",
    "\n",
    "X_train = X[0:500]\n",
    "X_train = X_train.to_numpy()\n",
    "\n",
    "X_test = X[500:568]\n",
    "X_test = X_test.to_numpy()\n",
    "\n",
    "# Printing dimensions\n",
    "\n",
    "print(len(list(y)))\n",
    "print(len(X_train[0]))"
   ]
  },
  {
   "cell_type": "markdown",
   "id": "32917891-44c2-4c32-9be1-8aabcc95d769",
   "metadata": {},
   "source": [
    "Looking at the number of rows and columns, we can say $k$ = 32 and $i$ = 569. So our final $\\textbf{b}$ vector should be of length 32. The extra column of 1's is to have an intercept parameter $\\alpha$ at the end of the calculation."
   ]
  },
  {
   "cell_type": "markdown",
   "id": "936728d8-e241-456a-8910-9822fccba05f",
   "metadata": {},
   "source": [
    "Let's solve for the $\\textbf{b}$ vector using the NumPy package"
   ]
  },
  {
   "cell_type": "code",
   "execution_count": 172,
   "id": "1bffeed0-34cf-4f96-ac43-a88d2134c15b",
   "metadata": {},
   "outputs": [],
   "source": [
    "import numpy as np\n",
    "\n",
    "X_prime = np.transpose(X_train)\n",
    "\n",
    "b = np.dot(np.linalg.inv(np.dot(X_prime,X_train)),np.dot(X_prime,y_train))"
   ]
  },
  {
   "cell_type": "code",
   "execution_count": 173,
   "id": "4e71a96f-abfa-4d57-bd63-2920c8683cae",
   "metadata": {},
   "outputs": [
    {
     "name": "stdout",
     "output_type": "stream",
     "text": [
      "[-8.41005914e-11 -2.16877650e-01  1.25440401e-02  2.22374266e-02\n",
      "  4.34421205e-04  1.42003048e+00 -4.72654036e+00  1.75882957e+00\n",
      "  9.95785525e-01 -5.48863578e-02  2.25387011e+00  4.03928224e-01\n",
      "  1.57951532e-03 -3.55357471e-02 -2.40271249e-04  1.63048117e+01\n",
      " -8.95696092e-01 -4.21536966e+00  1.63083473e+01  6.45381208e-01\n",
      " -4.13925728e+00  1.94784782e-01  1.98385282e-03  6.95544090e-04\n",
      " -1.14730969e-03  3.33884634e-01  2.81861375e-01  3.42592162e-01\n",
      "  2.05785942e-01  7.28211463e-01  3.66795653e+00 -2.34327087e+00]\n"
     ]
    }
   ],
   "source": [
    "print(b)"
   ]
  },
  {
   "cell_type": "code",
   "execution_count": 174,
   "id": "ce2d5306-2bd0-44a1-b73c-5604a6aef6f2",
   "metadata": {},
   "outputs": [
    {
     "name": "stdout",
     "output_type": "stream",
     "text": [
      "[ 0.17750409  0.7842319   0.16390178  1.23518185 -0.08932983  0.00315432\n",
      "  0.09088674  0.18277033  0.38708987  0.80940707  0.04999395  0.13549723\n",
      "  0.75978182  0.25438177  0.3592232   0.08640134  0.85346089  0.94047907\n",
      "  0.11633467  0.16514368  0.11374871  1.1268561  -0.12143329  0.32246549\n",
      " -0.06021046 -0.1611303   0.26679583  0.0356371   0.39233451  0.04632439\n",
      "  0.21059332  0.15423983  0.14188723  0.82610262 -0.078297    0.9074184\n",
      "  0.41830642  0.32704554 -0.02996056 -0.20568221 -0.1130237   0.54429582\n",
      "  0.41777188  0.2267564   0.08704817  0.25564593 -0.14510353 -0.03250305\n",
      " -0.04970944  0.21208922 -0.13852596 -0.00896615  0.32772947 -0.11129457\n",
      "  0.26056304  0.14553683 -0.18601073 -0.05348522  0.09123026  0.15914164\n",
      "  0.35340521 -0.10975948  1.26661198  1.19400826  1.33871872  0.99210586\n",
      "  0.60546671  1.63565221]\n"
     ]
    }
   ],
   "source": [
    "y_pred = np.dot(X_test, b)\n",
    "print(y_pred)"
   ]
  },
  {
   "cell_type": "code",
   "execution_count": 175,
   "id": "edd8860b-cfda-4a78-8590-d10ef8ef5708",
   "metadata": {},
   "outputs": [],
   "source": [
    "from sklearn.linear_model import LinearRegression\n",
    "\n",
    "reg = LinearRegression()\n",
    "\n",
    "reg.fit(X_train, y_train)\n",
    "b_sk = reg.coef_"
   ]
  },
  {
   "cell_type": "code",
   "execution_count": 176,
   "id": "2681fa63-695c-45d0-958e-84263b8bf230",
   "metadata": {},
   "outputs": [
    {
     "name": "stdout",
     "output_type": "stream",
     "text": [
      "[-8.41005854e-11 -2.16877652e-01  1.25440415e-02  2.22374250e-02\n",
      "  4.34421290e-04  1.42003049e+00 -4.72654020e+00  1.75882946e+00\n",
      "  9.95785611e-01 -5.48864613e-02  2.25387018e+00  4.03928053e-01\n",
      "  1.57953334e-03 -3.55357258e-02 -2.40271053e-04  1.63048115e+01\n",
      " -8.95696346e-01 -4.21537010e+00  1.63083470e+01  6.45381191e-01\n",
      " -4.13925733e+00  1.94784811e-01  1.98385059e-03  6.95540705e-04\n",
      " -1.14730973e-03  3.33884292e-01  2.81861555e-01  3.42592202e-01\n",
      "  2.05785905e-01  7.28211298e-01  3.66795659e+00  0.00000000e+00]\n"
     ]
    }
   ],
   "source": [
    "print(b_sk)"
   ]
  },
  {
   "cell_type": "code",
   "execution_count": 177,
   "id": "6e90c1c1-2f23-4de7-876d-dad8731bd43f",
   "metadata": {},
   "outputs": [
    {
     "name": "stdout",
     "output_type": "stream",
     "text": [
      "[ 0.17750411  0.78423188  0.16390176  1.23518186 -0.08932982  0.00315433\n",
      "  0.09088673  0.18277033  0.38708986  0.80940707  0.04999397  0.13549722\n",
      "  0.75978181  0.25438176  0.35922321  0.08640132  0.85346087  0.94047908\n",
      "  0.1163347   0.16514367  0.11374869  1.1268561  -0.12143329  0.32246549\n",
      " -0.06021044 -0.1611303   0.26679583  0.0356371   0.39233452  0.04632439\n",
      "  0.21059333  0.15423983  0.14188723  0.8261026  -0.078297    0.9074184\n",
      "  0.41830641  0.32704555 -0.02996056 -0.20568223 -0.1130237   0.54429583\n",
      "  0.41777188  0.2267564   0.08704818  0.25564593 -0.14510354 -0.03250305\n",
      " -0.04970944  0.21208923 -0.13852595 -0.00896616  0.32772946 -0.11129457\n",
      "  0.26056303  0.14553683 -0.1860107  -0.0534852   0.09123027  0.15914166\n",
      "  0.35340523 -0.10975942  1.266612    1.19400823  1.3387187   0.99210586\n",
      "  0.60546672  1.63565223]\n"
     ]
    }
   ],
   "source": [
    "y_pred_sk = reg.predict(X_test)\n",
    "print(y_pred_sk)"
   ]
  },
  {
   "cell_type": "markdown",
   "id": "e1707ce2-d824-45fe-8c86-555b16228865",
   "metadata": {},
   "source": [
    "We will mark all values below 0.5 as 0, otherwise it will be a 1"
   ]
  },
  {
   "cell_type": "code",
   "execution_count": 178,
   "id": "19522d44-3511-4b95-aabf-e72e6d5afeda",
   "metadata": {},
   "outputs": [
    {
     "name": "stdout",
     "output_type": "stream",
     "text": [
      "[0, 1, 0, 1, 0, 0, 0, 0, 0, 1, 0, 0, 1, 0, 0, 0, 1, 1, 0, 0, 0, 1, 0, 0, 0, 0, 0, 0, 0, 0, 0, 0, 0, 1, 0, 1, 0, 0, 0, 0, 0, 1, 0, 0, 0, 0, 0, 0, 0, 0, 0, 0, 0, 0, 0, 0, 0, 0, 0, 0, 0, 0, 1, 1, 1, 1, 1, 1]\n"
     ]
    }
   ],
   "source": [
    "y_pred = [0 if i <.5 else 1 for i in y_pred]\n",
    "print(y_pred)"
   ]
  },
  {
   "cell_type": "code",
   "execution_count": 179,
   "id": "db608e03-899d-45da-a8fb-f0b708b2d0d3",
   "metadata": {},
   "outputs": [
    {
     "name": "stdout",
     "output_type": "stream",
     "text": [
      "[0, 1, 0, 1, 0, 0, 0, 0, 0, 1, 0, 0, 1, 0, 1, 0, 1, 1, 0, 0, 0, 1, 0, 0, 0, 0, 0, 0, 0, 0, 0, 0, 0, 1, 0, 1, 1, 0, 0, 0, 0, 0, 0, 0, 0, 0, 0, 0, 0, 0, 0, 0, 0, 0, 0, 0, 0, 0, 0, 0, 0, 0, 1, 1, 1, 1, 1, 1]\n"
     ]
    }
   ],
   "source": [
    "# actual values\n",
    "print(y_test)"
   ]
  },
  {
   "cell_type": "code",
   "execution_count": 180,
   "id": "f36b45aa-f348-4ef1-b27a-17d08577cbdd",
   "metadata": {},
   "outputs": [
    {
     "data": {
      "text/plain": [
       "array([ 0,  0,  0,  0,  0,  0,  0,  0,  0,  0,  0,  0,  0,  0,  1,  0,  0,\n",
       "        0,  0,  0,  0,  0,  0,  0,  0,  0,  0,  0,  0,  0,  0,  0,  0,  0,\n",
       "        0,  0,  1,  0,  0,  0,  0, -1,  0,  0,  0,  0,  0,  0,  0,  0,  0,\n",
       "        0,  0,  0,  0,  0,  0,  0,  0,  0,  0,  0,  0,  0,  0,  0,  0,  0])"
      ]
     },
     "execution_count": 180,
     "metadata": {},
     "output_type": "execute_result"
    }
   ],
   "source": [
    "np.subtract(y_test,y_pred)"
   ]
  },
  {
   "cell_type": "markdown",
   "id": "1bdff5c7-fef5-4b72-86ee-2855aa8dd0a8",
   "metadata": {},
   "source": [
    "### Out of the 68 patients in the testing dataset, the model misdiagnoses 3 total patients: 2 false negatives and 1 false positive"
   ]
  },
  {
   "cell_type": "markdown",
   "id": "17afaca1-3b91-4c53-bb8d-8636749ff815",
   "metadata": {},
   "source": [
    "## Logistic Regression"
   ]
  },
  {
   "cell_type": "markdown",
   "id": "73623b0b-283b-4864-87b6-fb423dd132fe",
   "metadata": {},
   "source": [
    "Logistic Regression is based on the sigmoid function ($\\sigma$):\n",
    "\n",
    "$\\sigma(x) = \\frac{1}{1+e^{-x}}$\n",
    "\n",
    "X values from -10 to 10 of the sigmoid function are graphed below."
   ]
  },
  {
   "cell_type": "code",
   "execution_count": 181,
   "id": "4e877533-feea-4280-baee-ba1f3e2c8296",
   "metadata": {},
   "outputs": [
    {
     "data": {
      "image/png": "[encoded data removed]",
      "text/plain": [
       "<Figure size 720x360 with 1 Axes>"
      ]
     },
     "metadata": {
      "needs_background": "light"
     },
     "output_type": "display_data"
    }
   ],
   "source": [
    "import matplotlib.pyplot as plt\n",
    "import numpy as np\n",
    "import math\n",
    "\n",
    "def sigmoid(x):\n",
    "    return float(1/(1+math.exp(-x)))\n",
    "\n",
    "def sigmoid_list(x):\n",
    "    a = []\n",
    "    for num in x:\n",
    "        a.append(1/(1+math.exp(-num)))\n",
    "    return a\n",
    "\n",
    "x = np.linspace(-10, 10, 100)\n",
    "sigma_x = sigmoid_list(x)\n",
    " \n",
    "fig = plt.figure(figsize = (10, 5))\n",
    "# Create the plot\n",
    "plt.plot(x, sigma_x)\n",
    " \n",
    "# Show the plot\n",
    "plt.show()"
   ]
  },
  {
   "cell_type": "markdown",
   "id": "84155482-a130-4719-9d2c-1783e6ce985d",
   "metadata": {},
   "source": [
    "As noted from the graph, the sigmoid function has a large range of values that are either close to 0 or close to 1. This makes the sigmoid function a very powerful tool for classifiction"
   ]
  },
  {
   "cell_type": "markdown",
   "id": "c22bc627-d579-432d-bbca-70eafc4c8131",
   "metadata": {},
   "source": [
    "### Loss Function"
   ]
  },
  {
   "cell_type": "markdown",
   "id": "365d131b-bede-4402-a588-02585372068c",
   "metadata": {},
   "source": [
    "We need a loss function to measure how well the model is performing. We are going to use the negative log-likelihood loss function: \n",
    "\n",
    "log $\\mathbb{P}(\\beta\\mid{x_{i}y_{i}}) = -(y_i$ log$(\\sigma(\\beta x_{i}))+(1-y_{i})$ log$(1 - \\sigma(\\beta x_{i})))$"
   ]
  },
  {
   "cell_type": "code",
   "execution_count": 182,
   "id": "0f5ac166-47c3-48e8-ac14-c69482b0c3b3",
   "metadata": {},
   "outputs": [],
   "source": [
    "def neg_log_likelihood(y, y_pred):\n",
    "    return float(-((y * math.log(y_pred)) + ((1 - y) * math.log(1 - y_pred))))"
   ]
  },
  {
   "cell_type": "markdown",
   "id": "088c3c93-fb5d-4be3-bbb4-2e48acbb1caa",
   "metadata": {},
   "source": [
    "Now we make a function that can apply to the entire data set"
   ]
  },
  {
   "cell_type": "code",
   "execution_count": 183,
   "id": "92790b85-f31f-4141-8718-41d18c12d160",
   "metadata": {},
   "outputs": [],
   "source": [
    "def error(ys, ys_pred):\n",
    "    sum_loss = 0\n",
    "    num_obs = len(ys)\n",
    "    for i in range(num_obs):\n",
    "        sum_loss += neg_log_likelihood(ys[i],ys_pred[i])\n",
    "    return float(sum_loss/num_obs)"
   ]
  },
  {
   "cell_type": "code",
   "execution_count": 184,
   "id": "a5abb0da-59fc-4657-a98f-09ef4bfe3f17",
   "metadata": {},
   "outputs": [
    {
     "name": "stdout",
     "output_type": "stream",
     "text": [
      "(569, 32)\n",
      "(569, 31)\n"
     ]
    }
   ],
   "source": [
    "import scipy\n",
    "import random\n",
    "\n",
    "new_X = pd.DataFrame()\n",
    "\n",
    "print(np.shape(X))\n",
    "\n",
    "for column in X:\n",
    "    if column != 'intercept':\n",
    "        col = list(X[column])\n",
    "        new_col = scipy.stats.zscore(col)\n",
    "        new_X[column] = new_col\n",
    "    \n",
    "print(np.shape(new_X))"
   ]
  },
  {
   "cell_type": "code",
   "execution_count": 185,
   "id": "7c33052a-e849-4359-a783-e77a4a0f4834",
   "metadata": {},
   "outputs": [],
   "source": [
    "new_X['intercept'] = 1\n",
    "\n",
    "X_train = new_X[0:500]\n",
    "X_train = X_train.to_numpy()\n",
    "\n",
    "X_test = new_X[500:568]\n",
    "X_test = X_test.to_numpy()"
   ]
  },
  {
   "cell_type": "code",
   "execution_count": 186,
   "id": "bb5cb580-2e37-4521-847b-c0a135ea21d3",
   "metadata": {},
   "outputs": [
    {
     "name": "stdout",
     "output_type": "stream",
     "text": [
      "[[-0.23640517  1.09706398 -2.07333501 ...  2.75062224  1.93701461\n",
      "   1.        ]\n",
      " [-0.23640344  1.82982061 -0.35363241 ... -0.24388967  0.28118999\n",
      "   1.        ]\n",
      " [ 0.43174109  1.57988811  0.45618695 ...  1.152255    0.20139121\n",
      "   1.        ]\n",
      " ...\n",
      " [-0.23582653 -0.47069438 -0.4606775  ...  0.21717781 -0.40652031\n",
      "   1.        ]\n",
      " [-0.23582502  1.23907108 -0.41180909 ... -0.63215701  0.58209788\n",
      "   1.        ]\n",
      " [-0.242416    1.83550089  0.45385988 ... -0.68069043  0.33494333\n",
      "   1.        ]]\n"
     ]
    }
   ],
   "source": [
    "print(X_train)\n",
    "num_obs = np.shape(X_train)[0]"
   ]
  },
  {
   "cell_type": "code",
   "execution_count": 187,
   "id": "9a668979-1206-4c55-8b48-5ef18aecfd71",
   "metadata": {},
   "outputs": [
    {
     "name": "stdout",
     "output_type": "stream",
     "text": [
      "[0.018439992689438113, 0.01648936421312732, 0.022394387462196307, 0.004726458131288658, 0.09547278153820746, 0.04868372009288533, 0.06389672873085307, 0.09855183308121983, 0.047801978996323005, 0.04397244324183793, 0.06406552747156719, 0.016617603985256267, 0.060433066627713826, 0.010835311650203383, 0.08635020703282831, 0.03162030789545659, 0.027678881908095677, 0.03567540335222278, 0.07621832343375802, 0.06890678595232276, 0.09530387220560221, 0.008431339640500435, 0.09047202568217234, 0.0818102197796765, 0.04485707751177107, 0.08254012098867783, 0.025225138235565436, 0.014080292698708174, 0.051442081830807916, 0.0959105037336581, 0.0865065276752924, 0.0675214067207974]\n"
     ]
    }
   ],
   "source": [
    "beta = [random.random() / 10 for _ in range(32)]\n",
    "print(beta)"
   ]
  },
  {
   "cell_type": "code",
   "execution_count": 188,
   "id": "077e0832-d011-4982-8aff-f194675f6291",
   "metadata": {},
   "outputs": [
    {
     "name": "stdout",
     "output_type": "stream",
     "text": [
      "Epoch 1 --> loss: 0.45870843996161564\n",
      "Epoch 1001 --> loss: 0.10100012326240429\n",
      "Epoch 2001 --> loss: 0.08323360375927852\n",
      "Epoch 3001 --> loss: 0.07559658078050249\n",
      "Best estimate for \"beta\": [0.008705764212771404, 0.4878249140673788, 0.5813522097767367, 0.46319266071426446, 0.5675050039496174, 0.21394452811567816, 0.08677184500545225, 0.3988567939427921, 0.4953898972234554, 0.07964891057545986, -0.23324774150432714, 0.5067031292308778, -0.023181703316456706, 0.40130427200686764, 0.5125030403396078, 0.055860143082395806, -0.28465862283707843, -0.1643615602299974, 0.13743068777441048, -0.13846760068840688, -0.2641057283815161, 0.6099877334397433, 0.707973702980055, 0.6441796459394682, 0.6113007336002679, 0.5499095136326488, 0.1854792896803913, 0.3419545702408963, 0.5734463617178986, 0.46617013062049906, 0.18573560294225147, -0.3184890480782338]\n"
     ]
    }
   ],
   "source": [
    "epochs: int = 3200\n",
    "learning_rate: float = 0.01\n",
    "\n",
    "for epoch in range(epochs):\n",
    "    # Calculate the \"predictions\" based on our current `beta` vector\n",
    "    dot_p = [np.dot(beta, x) for x in X_train]\n",
    "    y_pred = sigmoid_list(dot_p)\n",
    "\n",
    "    # Calculate and print the error\n",
    "    if epoch % 1000 == True:\n",
    "        loss: float = error(y_train, y_pred)\n",
    "        print(f'Epoch {epoch} --> loss: {loss}')\n",
    "\n",
    "    # Calculate the gradient\n",
    "    grad = [0 for _ in range(len(beta))]\n",
    "    for x, y in zip(X_train, y_train):\n",
    "        dot_p_i = np.dot(beta, x)\n",
    "        y_pred_i = sigmoid(dot_p_i)\n",
    "        err = y_pred_i - y\n",
    "        for i, x_i in enumerate(x):\n",
    "            grad[i] += (err * x_i)\n",
    "    grad = [1 / num_obs * g_i for g_i in grad]\n",
    "\n",
    "    # Take a small step in the direction of greatest decrease\n",
    "    beta = [b + (gb * -learning_rate) for b, gb in zip(beta, grad)]\n",
    "\n",
    "print(f'Best estimate for \"beta\": {beta}')"
   ]
  },
  {
   "cell_type": "code",
   "execution_count": 189,
   "id": "3704a856-03dd-4629-8b95-31c12b25d9d2",
   "metadata": {},
   "outputs": [
    {
     "name": "stdout",
     "output_type": "stream",
     "text": [
      "[0, 1, 0, 1, 0, 0, 0, 0, 0, 1, 0, 0, 1, 0, 0, 0, 1, 1, 0, 0, 0, 1, 0, 0, 0, 0, 0, 0, 0, 0, 0, 0, 0, 1, 0, 1, 1, 0, 0, 0, 0, 1, 0, 0, 0, 0, 0, 0, 0, 0, 0, 0, 0, 0, 0, 0, 0, 0, 0, 0, 0, 0, 1, 1, 1, 1, 1, 1]\n"
     ]
    }
   ],
   "source": [
    "dot_p_test = [np.dot(beta, x) for x in X_test]\n",
    "y_pred_test = sigmoid_list(dot_p_test)\n",
    "y_pred_test = [1 if num>=0.5 else 0 for num in y_pred_test]\n",
    "print(y_pred_test)"
   ]
  },
  {
   "cell_type": "code",
   "execution_count": 190,
   "id": "ccb77c5d-4ef9-4dc6-9234-587536e5b77c",
   "metadata": {},
   "outputs": [
    {
     "name": "stdout",
     "output_type": "stream",
     "text": [
      "[0, 1, 0, 1, 0, 0, 0, 0, 0, 1, 0, 0, 1, 0, 1, 0, 1, 1, 0, 0, 0, 1, 0, 0, 0, 0, 0, 0, 0, 0, 0, 0, 0, 1, 0, 1, 1, 0, 0, 0, 0, 0, 0, 0, 0, 0, 0, 0, 0, 0, 0, 0, 0, 0, 0, 0, 0, 0, 0, 0, 0, 0, 1, 1, 1, 1, 1, 1]\n"
     ]
    }
   ],
   "source": [
    "print(y_test)"
   ]
  },
  {
   "cell_type": "code",
   "execution_count": 191,
   "id": "40a0ffbc-ece8-4823-af4b-7233e5a31278",
   "metadata": {},
   "outputs": [],
   "source": [
    "diff = np.subtract(y_test,y_pred_test)"
   ]
  },
  {
   "cell_type": "code",
   "execution_count": 192,
   "id": "b028bf2b-199a-4cd6-bf9a-916d90f2dc1b",
   "metadata": {},
   "outputs": [
    {
     "name": "stdout",
     "output_type": "stream",
     "text": [
      "0.9705882352941176\n"
     ]
    }
   ],
   "source": [
    "accuracy = list(diff).count(0)/len(diff)\n",
    "print(accuracy)"
   ]
  },
  {
   "cell_type": "code",
   "execution_count": null,
   "id": "dce07032-b53b-4018-946f-ca2e1a2283bf",
   "metadata": {},
   "outputs": [],
   "source": []
  }
 ],
 "metadata": {
  "kernelspec": {
   "display_name": "Python 3 (ipykernel)",
   "language": "python",
   "name": "python3"
  },
  "language_info": {
   "codemirror_mode": {
    "name": "ipython",
    "version": 3
   },
   "file_extension": ".py",
   "mimetype": "text/x-python",
   "name": "python",
   "nbconvert_exporter": "python",
   "pygments_lexer": "ipython3",
   "version": "3.9.7"
  }
 },
 "nbformat": 4,
 "nbformat_minor": 5
}
