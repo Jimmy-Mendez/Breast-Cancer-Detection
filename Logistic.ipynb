{
 "cells": [
  {
   "cell_type": "markdown",
   "id": "99006af0-7eab-4021-a785-b358a35cf8f5",
   "metadata": {},
   "source": [
    "# Breast Cancer Detection\n",
    "\n",
    "In this notebook, I explore logistic regression using a breast cancer diagnosis data set downloaded from Kaggle.\n",
    "\n",
    "Link to data:\n",
    "\n",
    "This project will look at how linear regression and logistic regression differ, and how logistic regression can be a powerful tool for classification."
   ]
  },
  {
   "cell_type": "markdown",
   "id": "4b2c9fd6-9a6f-4b07-af2a-8710983e4b35",
   "metadata": {},
   "source": [
    "Since the diagnosis has two possible outputs (benign or malignant), I will be exploring binary logistic regression. "
   ]
  },
  {
   "cell_type": "markdown",
   "id": "29748937-f620-47f6-9938-551affa6e79c",
   "metadata": {},
   "source": [
    "## Linear Regression"
   ]
  },
  {
   "cell_type": "markdown",
   "id": "a0670e67-0422-4d8f-bfc9-31339005eedc",
   "metadata": {},
   "source": [
    "The basic model of a multivariate linear regression is:\n",
    "\n",
    "$\\hat{y_{i}} = \\alpha + \\beta_{1}x_{i,1} + \\beta_{2}x_{i,2} + \\beta_{3}x_{i,3} + ... + \\beta_{k}x_{i,k} + \\mu_{i}$\n",
    "\n",
    "Where the inputs for a single observation, $i$, are $x_{i,1}, x_{i,2}, x_{i,3}, ..., x_{i,k}$ , and are weighted by the coeffiecients $\\beta_{1}, \\beta_{2}, \\beta_{3}, ..., \\beta_{k}$, and $\\mu_{i}$ is the error term to give output $y_{i}$. \n",
    "\n",
    "TO DO: write in matrix notation\n",
    "\n",
    "We can calculate $\\textbf{b}$ by solving the minimization function, where we try to minimize the sum of squared residuals: $min(\\sum(y_{i}-\\hat{y_{i}}))$ where\n",
    "\n",
    "$\\textbf{b} = \\begin{bmatrix} \\beta_{1} \\\\ \\beta_{2} \\\\ \\beta_{3} \\\\ : \\\\ \\beta{k} \\end{bmatrix}$\n",
    "\n",
    "$\\textbf{X} = \\begin{bmatrix} x_{1, 1} && x_{1,2} && x_{1,3} && ... && x_{1,k} \\\\ x_{2,1} && x_{2,2} && x_{2,3} && ... && x_{2,k}\\\\ x_{2,1} && x_{2,2} && x_{3,3} && ... && x_{3,k} \\\\ : \\\\ x_{i,1} && x_{i,2} && x_{i,3} && ... && x_{i,k}\n",
    "\\end{bmatrix}$\n",
    "\n",
    "$\\textbf{y} = \\begin{bmatrix} y_{1} \\\\ y_{2} \\\\ y_{3} \\\\ : \\\\ y_{k} \\end{bmatrix}$\n",
    "\n",
    "\n",
    "$\\textbf{e} = \\begin{bmatrix} \\mu_{1} \\\\ \\mu_{2} \\\\ \\mu_{3} \\\\ : \\\\ \\mu_{k} \\end{bmatrix}$\n",
    "\n",
    "Using the matrix notation we can rewrite the regression equation as $$\\textbf{y} = \\textbf{Xb} + \\textbf{e}$$ Solving for $\\textbf{b}$ we get $$\\textbf{b} = (\\textbf{X}'\\textbf{X})^{-1}\\textbf{X}'\\textbf{y}$$\n",
    "\n",
    "TODO: Provide a proof"
   ]
  },
  {
   "cell_type": "markdown",
   "id": "d12ec8bf-91e4-4981-8152-db010c9275e4",
   "metadata": {},
   "source": [
    "## In Practice"
   ]
  },
  {
   "cell_type": "code",
   "execution_count": 159,
   "id": "38fdb706-df8e-4e9e-bae8-dbfeacd5f24e",
   "metadata": {},
   "outputs": [],
   "source": [
    "import pandas as pd\n",
    "\n",
    "data = pd.read_csv(\"Data/data.csv\")"
   ]
  },
  {
   "cell_type": "markdown",
   "id": "dfe7dcb8-116f-4ae5-acc0-f61a8673f655",
   "metadata": {},
   "source": [
    "Before we solve for $\\textbf{b}$, lets store the $\\textbf{y}$ vector separately and split the data into training and testing datasets"
   ]
  },
  {
   "cell_type": "code",
   "execution_count": 160,
   "id": "1b66eb02-e883-4370-8041-74051d75ca7d",
   "metadata": {},
   "outputs": [
    {
     "name": "stdout",
     "output_type": "stream",
     "text": [
      "569\n",
      "31\n"
     ]
    }
   ],
   "source": [
    "# Creating y_train and y_test matrix\n",
    "\n",
    "y = data['diagnosis'].to_numpy()\n",
    "y = [1 if i == 'M' else 0 for i in y]\n",
    "\n",
    "y_train = y[0:500]\n",
    "y_test = y[500:568]\n",
    "\n",
    "# Creating X_train and X_test matrix\n",
    "\n",
    "X = data.loc[: , data.columns!='diagnosis']\n",
    "X = X.loc[: , X.columns!='Unnamed: 32']\n",
    "\n",
    "X_train = X[0:500]\n",
    "X_train = X_train.to_numpy()\n",
    "\n",
    "X_test = X[500:568]\n",
    "X_test = X_test.to_numpy()\n",
    "\n",
    "# Printing dimensions\n",
    "\n",
    "print(len(list(y)))\n",
    "print(len(X_train[0]))"
   ]
  },
  {
   "cell_type": "markdown",
   "id": "32917891-44c2-4c32-9be1-8aabcc95d769",
   "metadata": {},
   "source": [
    "Looking at the number of rows and columns, we can say $k$ = 31 and $i$ = 569. So our final $\\textbf{b}$ vector should be of length 31."
   ]
  },
  {
   "cell_type": "markdown",
   "id": "936728d8-e241-456a-8910-9822fccba05f",
   "metadata": {},
   "source": [
    "Let's solve for the $\\textbf{b}$ vector using the NumPy package"
   ]
  },
  {
   "cell_type": "code",
   "execution_count": 161,
   "id": "1bffeed0-34cf-4f96-ac43-a88d2134c15b",
   "metadata": {},
   "outputs": [],
   "source": [
    "import numpy as np\n",
    "\n",
    "X_prime = np.transpose(X_train)\n",
    "\n",
    "b = np.dot(np.linalg.inv(np.dot(X_prime,X_train)),np.dot(X_prime,y_train))"
   ]
  },
  {
   "cell_type": "code",
   "execution_count": 162,
   "id": "4e71a96f-abfa-4d57-bd63-2920c8683cae",
   "metadata": {},
   "outputs": [
    {
     "name": "stdout",
     "output_type": "stream",
     "text": [
      "[-9.24030151e-11 -3.42552811e-01  1.21316299e-02  1.85691039e-02\n",
      "  1.55657357e-03  1.01869352e+00 -1.55465160e+00  1.41561470e+00\n",
      "  2.26443265e+00 -7.70338578e-01 -1.89557327e+01  3.71603650e-01\n",
      "  1.26879320e-02 -1.85716975e-02 -1.34436057e-03  1.57048687e+01\n",
      " -3.17509290e+00 -4.03578648e+00  1.49186236e+01  2.91028503e-01\n",
      "  1.28422577e+01  2.34848461e-01  5.44758303e-04 -2.78806414e-03\n",
      " -1.24979260e-03 -3.64378656e-01  1.31595399e-01  3.88886944e-01\n",
      "  3.36723720e-01  8.91493998e-01  4.82658826e+00]\n"
     ]
    }
   ],
   "source": [
    "print(b)"
   ]
  },
  {
   "cell_type": "code",
   "execution_count": 163,
   "id": "ce2d5306-2bd0-44a1-b73c-5604a6aef6f2",
   "metadata": {},
   "outputs": [
    {
     "name": "stdout",
     "output_type": "stream",
     "text": [
      "[ 0.11486802  0.73917221  0.10391303  1.25156621 -0.15711754 -0.05746075\n",
      "  0.00239589  0.0344772   0.31353432  0.73864309  0.0715515   0.10538098\n",
      "  0.69169125  0.29523675  0.30783559  0.087518    0.83409879  0.86568653\n",
      "  0.11013268  0.13461524  0.04827287  1.14490559 -0.17682345  0.19412757\n",
      " -0.00958384 -0.10441507  0.25593557  0.0831417   0.30910114  0.00596248\n",
      "  0.20123765  0.14560633  0.0883085   0.85952936 -0.03517548  0.929026\n",
      "  0.4448618   0.2755596   0.06079819 -0.17847464 -0.13535756  0.5080809\n",
      "  0.39935311  0.2224012  -0.03689219  0.21825966 -0.11798687  0.00207782\n",
      "  0.07105424  0.22303138 -0.11151775 -0.01819313  0.28424832 -0.05713002\n",
      "  0.25154136  0.26615756 -0.15549615  0.09498463  0.11746422  0.21482975\n",
      "  0.39140479  0.0052234   1.28228326  1.17205382  1.33266842  0.95607624\n",
      "  0.58220969  1.65436659]\n"
     ]
    }
   ],
   "source": [
    "y_pred = np.dot(X_test, b)\n",
    "print(y_pred)"
   ]
  },
  {
   "cell_type": "code",
   "execution_count": 164,
   "id": "edd8860b-cfda-4a78-8590-d10ef8ef5708",
   "metadata": {},
   "outputs": [],
   "source": [
    "from sklearn.linear_model import LinearRegression\n",
    "\n",
    "reg = LinearRegression(fit_intercept = False)\n",
    "\n",
    "reg.fit(X_train, y_train)\n",
    "b_sk = reg.coef_"
   ]
  },
  {
   "cell_type": "code",
   "execution_count": 165,
   "id": "2681fa63-695c-45d0-958e-84263b8bf230",
   "metadata": {},
   "outputs": [
    {
     "name": "stdout",
     "output_type": "stream",
     "text": [
      "[-9.24030153e-11 -3.42552812e-01  1.21316297e-02  1.85691041e-02\n",
      "  1.55657357e-03  1.01869351e+00 -1.55465161e+00  1.41561470e+00\n",
      "  2.26443264e+00 -7.70338578e-01 -1.89557327e+01  3.71603668e-01\n",
      "  1.26879309e-02 -1.85716994e-02 -1.34436060e-03  1.57048687e+01\n",
      " -3.17509289e+00 -4.03578646e+00  1.49186236e+01  2.91028503e-01\n",
      "  1.28422577e+01  2.34848459e-01  5.44758484e-04 -2.78806393e-03\n",
      " -1.24979260e-03 -3.64378640e-01  1.31595400e-01  3.88886939e-01\n",
      "  3.36723717e-01  8.91493998e-01  4.82658826e+00]\n"
     ]
    }
   ],
   "source": [
    "print(b_sk)"
   ]
  },
  {
   "cell_type": "code",
   "execution_count": 166,
   "id": "6e90c1c1-2f23-4de7-876d-dad8731bd43f",
   "metadata": {},
   "outputs": [
    {
     "name": "stdout",
     "output_type": "stream",
     "text": [
      "[ 0.11486802  0.73917221  0.10391303  1.25156621 -0.15711754 -0.05746075\n",
      "  0.00239589  0.0344772   0.31353432  0.73864309  0.0715515   0.10538098\n",
      "  0.69169125  0.29523675  0.30783559  0.087518    0.83409879  0.86568653\n",
      "  0.11013268  0.13461524  0.04827287  1.14490559 -0.17682345  0.19412757\n",
      " -0.00958384 -0.10441507  0.25593557  0.0831417   0.30910113  0.00596248\n",
      "  0.20123765  0.14560633  0.0883085   0.85952936 -0.03517548  0.929026\n",
      "  0.4448618   0.2755596   0.06079819 -0.17847464 -0.13535756  0.5080809\n",
      "  0.39935311  0.2224012  -0.03689219  0.21825966 -0.11798687  0.00207782\n",
      "  0.07105424  0.22303138 -0.11151775 -0.01819313  0.28424832 -0.05713002\n",
      "  0.25154136  0.26615756 -0.15549615  0.09498463  0.11746422  0.21482975\n",
      "  0.39140479  0.0052234   1.28228326  1.17205382  1.33266842  0.95607624\n",
      "  0.58220969  1.65436659]\n"
     ]
    }
   ],
   "source": [
    "y_pred_sk = reg.predict(X_test)\n",
    "print(y_pred_sk)"
   ]
  },
  {
   "cell_type": "markdown",
   "id": "e1707ce2-d824-45fe-8c86-555b16228865",
   "metadata": {},
   "source": [
    "## We will mark all values below 0.5 as 0, otherwise it will be a 1"
   ]
  },
  {
   "cell_type": "code",
   "execution_count": 168,
   "id": "19522d44-3511-4b95-aabf-e72e6d5afeda",
   "metadata": {},
   "outputs": [
    {
     "name": "stdout",
     "output_type": "stream",
     "text": [
      "[0, 1, 0, 1, 0, 0, 0, 0, 0, 1, 0, 0, 1, 0, 0, 0, 1, 1, 0, 0, 0, 1, 0, 0, 0, 0, 0, 0, 0, 0, 0, 0, 0, 1, 0, 1, 0, 0, 0, 0, 0, 1, 0, 0, 0, 0, 0, 0, 0, 0, 0, 0, 0, 0, 0, 0, 0, 0, 0, 0, 0, 0, 1, 1, 1, 1, 1, 1]\n"
     ]
    }
   ],
   "source": [
    "y_pred = [0 if i <.5 else 1 for i in y_pred]\n",
    "print(y_pred)"
   ]
  },
  {
   "cell_type": "code",
   "execution_count": 169,
   "id": "db608e03-899d-45da-a8fb-f0b708b2d0d3",
   "metadata": {},
   "outputs": [
    {
     "name": "stdout",
     "output_type": "stream",
     "text": [
      "[0, 1, 0, 1, 0, 0, 0, 0, 0, 1, 0, 0, 1, 0, 1, 0, 1, 1, 0, 0, 0, 1, 0, 0, 0, 0, 0, 0, 0, 0, 0, 0, 0, 1, 0, 1, 1, 0, 0, 0, 0, 0, 0, 0, 0, 0, 0, 0, 0, 0, 0, 0, 0, 0, 0, 0, 0, 0, 0, 0, 0, 0, 1, 1, 1, 1, 1, 1]\n"
     ]
    }
   ],
   "source": [
    "# actual values\n",
    "print(y_test)"
   ]
  },
  {
   "cell_type": "code",
   "execution_count": 175,
   "id": "f36b45aa-f348-4ef1-b27a-17d08577cbdd",
   "metadata": {},
   "outputs": [
    {
     "data": {
      "text/plain": [
       "array([ 0,  0,  0,  0,  0,  0,  0,  0,  0,  0,  0,  0,  0,  0,  1,  0,  0,\n",
       "        0,  0,  0,  0,  0,  0,  0,  0,  0,  0,  0,  0,  0,  0,  0,  0,  0,\n",
       "        0,  0,  1,  0,  0,  0,  0, -1,  0,  0,  0,  0,  0,  0,  0,  0,  0,\n",
       "        0,  0,  0,  0,  0,  0,  0,  0,  0,  0,  0,  0,  0,  0,  0,  0,  0])"
      ]
     },
     "execution_count": 175,
     "metadata": {},
     "output_type": "execute_result"
    }
   ],
   "source": [
    "np.subtract(y_test,y_pred)"
   ]
  },
  {
   "cell_type": "markdown",
   "id": "1bdff5c7-fef5-4b72-86ee-2855aa8dd0a8",
   "metadata": {},
   "source": [
    "## Out of the 68 patients in the testing dataset, the model misdiagnoses 3 total patients: 2 false positives and 1 false negative"
   ]
  },
  {
   "cell_type": "code",
   "execution_count": null,
   "id": "2170b6cb-256e-4391-b6ab-cfef7848f4e9",
   "metadata": {},
   "outputs": [],
   "source": []
  }
 ],
 "metadata": {
  "kernelspec": {
   "display_name": "Python 3 (ipykernel)",
   "language": "python",
   "name": "python3"
  },
  "language_info": {
   "codemirror_mode": {
    "name": "ipython",
    "version": 3
   },
   "file_extension": ".py",
   "mimetype": "text/x-python",
   "name": "python",
   "nbconvert_exporter": "python",
   "pygments_lexer": "ipython3",
   "version": "3.9.7"
  }
 },
 "nbformat": 4,
 "nbformat_minor": 5
}
